{
 "cells": [
  {
   "cell_type": "markdown",
   "id": "70a6fdde",
   "metadata": {},
   "source": [
    "# Polars Basics"
   ]
  },
  {
   "cell_type": "code",
   "execution_count": 1,
   "id": "6e59a460",
   "metadata": {},
   "outputs": [
    {
     "name": "stdout",
     "output_type": "stream",
     "text": [
      "Collecting polars\n",
      "  Downloading polars-0.18.8-cp38-abi3-win_amd64.whl (19.9 MB)\n",
      "     ---------------------------------------- 19.9/19.9 MB 7.9 MB/s eta 0:00:00\n",
      "Installing collected packages: polars\n",
      "Successfully installed polars-0.18.8\n"
     ]
    }
   ],
   "source": [
    "!pip install polars"
   ]
  },
  {
   "cell_type": "code",
   "execution_count": 3,
   "id": "9e6893d5",
   "metadata": {},
   "outputs": [],
   "source": [
    "import polars as pl"
   ]
  },
  {
   "cell_type": "code",
   "execution_count": 4,
   "id": "ef1cd796",
   "metadata": {},
   "outputs": [
    {
     "data": {
      "text/html": [
       "<div><style>\n",
       ".dataframe > thead > tr > th,\n",
       ".dataframe > tbody > tr > td {\n",
       "  text-align: right;\n",
       "}\n",
       "</style>\n",
       "<small>shape: (1_338, 7)</small><table border=\"1\" class=\"dataframe\"><thead><tr><th>age</th><th>sex</th><th>bmi</th><th>children</th><th>smoker</th><th>region</th><th>charges</th></tr><tr><td>i64</td><td>str</td><td>f64</td><td>i64</td><td>str</td><td>str</td><td>f64</td></tr></thead><tbody><tr><td>19</td><td>&quot;female&quot;</td><td>27.9</td><td>0</td><td>&quot;yes&quot;</td><td>&quot;southwest&quot;</td><td>16884.924</td></tr><tr><td>18</td><td>&quot;male&quot;</td><td>33.77</td><td>1</td><td>&quot;no&quot;</td><td>&quot;southeast&quot;</td><td>1725.5523</td></tr><tr><td>28</td><td>&quot;male&quot;</td><td>33.0</td><td>3</td><td>&quot;no&quot;</td><td>&quot;southeast&quot;</td><td>4449.462</td></tr><tr><td>33</td><td>&quot;male&quot;</td><td>22.705</td><td>0</td><td>&quot;no&quot;</td><td>&quot;northwest&quot;</td><td>21984.47061</td></tr><tr><td>32</td><td>&quot;male&quot;</td><td>28.88</td><td>0</td><td>&quot;no&quot;</td><td>&quot;northwest&quot;</td><td>3866.8552</td></tr><tr><td>31</td><td>&quot;female&quot;</td><td>25.74</td><td>0</td><td>&quot;no&quot;</td><td>&quot;southeast&quot;</td><td>3756.6216</td></tr><tr><td>46</td><td>&quot;female&quot;</td><td>33.44</td><td>1</td><td>&quot;no&quot;</td><td>&quot;southeast&quot;</td><td>8240.5896</td></tr><tr><td>37</td><td>&quot;female&quot;</td><td>27.74</td><td>3</td><td>&quot;no&quot;</td><td>&quot;northwest&quot;</td><td>7281.5056</td></tr><tr><td>37</td><td>&quot;male&quot;</td><td>29.83</td><td>2</td><td>&quot;no&quot;</td><td>&quot;northeast&quot;</td><td>6406.4107</td></tr><tr><td>60</td><td>&quot;female&quot;</td><td>25.84</td><td>0</td><td>&quot;no&quot;</td><td>&quot;northwest&quot;</td><td>28923.13692</td></tr><tr><td>25</td><td>&quot;male&quot;</td><td>26.22</td><td>0</td><td>&quot;no&quot;</td><td>&quot;northeast&quot;</td><td>2721.3208</td></tr><tr><td>62</td><td>&quot;female&quot;</td><td>26.29</td><td>0</td><td>&quot;yes&quot;</td><td>&quot;southeast&quot;</td><td>27808.7251</td></tr><tr><td>&hellip;</td><td>&hellip;</td><td>&hellip;</td><td>&hellip;</td><td>&hellip;</td><td>&hellip;</td><td>&hellip;</td></tr><tr><td>42</td><td>&quot;female&quot;</td><td>32.87</td><td>0</td><td>&quot;no&quot;</td><td>&quot;northeast&quot;</td><td>7050.0213</td></tr><tr><td>51</td><td>&quot;male&quot;</td><td>30.03</td><td>1</td><td>&quot;no&quot;</td><td>&quot;southeast&quot;</td><td>9377.9047</td></tr><tr><td>23</td><td>&quot;female&quot;</td><td>24.225</td><td>2</td><td>&quot;no&quot;</td><td>&quot;northeast&quot;</td><td>22395.74424</td></tr><tr><td>52</td><td>&quot;male&quot;</td><td>38.6</td><td>2</td><td>&quot;no&quot;</td><td>&quot;southwest&quot;</td><td>10325.206</td></tr><tr><td>57</td><td>&quot;female&quot;</td><td>25.74</td><td>2</td><td>&quot;no&quot;</td><td>&quot;southeast&quot;</td><td>12629.1656</td></tr><tr><td>23</td><td>&quot;female&quot;</td><td>33.4</td><td>0</td><td>&quot;no&quot;</td><td>&quot;southwest&quot;</td><td>10795.93733</td></tr><tr><td>52</td><td>&quot;female&quot;</td><td>44.7</td><td>3</td><td>&quot;no&quot;</td><td>&quot;southwest&quot;</td><td>11411.685</td></tr><tr><td>50</td><td>&quot;male&quot;</td><td>30.97</td><td>3</td><td>&quot;no&quot;</td><td>&quot;northwest&quot;</td><td>10600.5483</td></tr><tr><td>18</td><td>&quot;female&quot;</td><td>31.92</td><td>0</td><td>&quot;no&quot;</td><td>&quot;northeast&quot;</td><td>2205.9808</td></tr><tr><td>18</td><td>&quot;female&quot;</td><td>36.85</td><td>0</td><td>&quot;no&quot;</td><td>&quot;southeast&quot;</td><td>1629.8335</td></tr><tr><td>21</td><td>&quot;female&quot;</td><td>25.8</td><td>0</td><td>&quot;no&quot;</td><td>&quot;southwest&quot;</td><td>2007.945</td></tr><tr><td>61</td><td>&quot;female&quot;</td><td>29.07</td><td>0</td><td>&quot;yes&quot;</td><td>&quot;northwest&quot;</td><td>29141.3603</td></tr></tbody></table></div>"
      ],
      "text/plain": [
       "shape: (1_338, 7)\n",
       "┌─────┬────────┬────────┬──────────┬────────┬───────────┬─────────────┐\n",
       "│ age ┆ sex    ┆ bmi    ┆ children ┆ smoker ┆ region    ┆ charges     │\n",
       "│ --- ┆ ---    ┆ ---    ┆ ---      ┆ ---    ┆ ---       ┆ ---         │\n",
       "│ i64 ┆ str    ┆ f64    ┆ i64      ┆ str    ┆ str       ┆ f64         │\n",
       "╞═════╪════════╪════════╪══════════╪════════╪═══════════╪═════════════╡\n",
       "│ 19  ┆ female ┆ 27.9   ┆ 0        ┆ yes    ┆ southwest ┆ 16884.924   │\n",
       "│ 18  ┆ male   ┆ 33.77  ┆ 1        ┆ no     ┆ southeast ┆ 1725.5523   │\n",
       "│ 28  ┆ male   ┆ 33.0   ┆ 3        ┆ no     ┆ southeast ┆ 4449.462    │\n",
       "│ 33  ┆ male   ┆ 22.705 ┆ 0        ┆ no     ┆ northwest ┆ 21984.47061 │\n",
       "│ …   ┆ …      ┆ …      ┆ …        ┆ …      ┆ …         ┆ …           │\n",
       "│ 18  ┆ female ┆ 31.92  ┆ 0        ┆ no     ┆ northeast ┆ 2205.9808   │\n",
       "│ 18  ┆ female ┆ 36.85  ┆ 0        ┆ no     ┆ southeast ┆ 1629.8335   │\n",
       "│ 21  ┆ female ┆ 25.8   ┆ 0        ┆ no     ┆ southwest ┆ 2007.945    │\n",
       "│ 61  ┆ female ┆ 29.07  ┆ 0        ┆ yes    ┆ northwest ┆ 29141.3603  │\n",
       "└─────┴────────┴────────┴──────────┴────────┴───────────┴─────────────┘"
      ]
     },
     "execution_count": 4,
     "metadata": {},
     "output_type": "execute_result"
    }
   ],
   "source": [
    "insurance = pl.read_csv(r'C:\\Users\\alexf\\OneDrive\\Documents\\Tutorials\\Pandas Folder\\Polars\\health_insurance.csv')\n",
    "insurance"
   ]
  },
  {
   "cell_type": "code",
   "execution_count": 9,
   "id": "af0acded",
   "metadata": {},
   "outputs": [
    {
     "data": {
      "text/html": [
       "<div><style>\n",
       ".dataframe > thead > tr > th,\n",
       ".dataframe > tbody > tr > td {\n",
       "  text-align: right;\n",
       "}\n",
       "</style>\n",
       "<small>shape: (1_338, 7)</small><table border=\"1\" class=\"dataframe\"><thead><tr><th>age</th><th>sex</th><th>bmi</th><th>children</th><th>smoker</th><th>region</th><th>charges</th></tr><tr><td>i64</td><td>str</td><td>f64</td><td>i64</td><td>str</td><td>str</td><td>f64</td></tr></thead><tbody><tr><td>19</td><td>&quot;female&quot;</td><td>27.9</td><td>0</td><td>&quot;yes&quot;</td><td>&quot;southwest&quot;</td><td>16884.924</td></tr><tr><td>18</td><td>&quot;male&quot;</td><td>33.77</td><td>1</td><td>&quot;no&quot;</td><td>&quot;southeast&quot;</td><td>1725.5523</td></tr><tr><td>28</td><td>&quot;male&quot;</td><td>33.0</td><td>3</td><td>&quot;no&quot;</td><td>&quot;southeast&quot;</td><td>4449.462</td></tr><tr><td>33</td><td>&quot;male&quot;</td><td>22.705</td><td>0</td><td>&quot;no&quot;</td><td>&quot;northwest&quot;</td><td>21984.47061</td></tr><tr><td>32</td><td>&quot;male&quot;</td><td>28.88</td><td>0</td><td>&quot;no&quot;</td><td>&quot;northwest&quot;</td><td>3866.8552</td></tr><tr><td>31</td><td>&quot;female&quot;</td><td>25.74</td><td>0</td><td>&quot;no&quot;</td><td>&quot;southeast&quot;</td><td>3756.6216</td></tr><tr><td>46</td><td>&quot;female&quot;</td><td>33.44</td><td>1</td><td>&quot;no&quot;</td><td>&quot;southeast&quot;</td><td>8240.5896</td></tr><tr><td>37</td><td>&quot;female&quot;</td><td>27.74</td><td>3</td><td>&quot;no&quot;</td><td>&quot;northwest&quot;</td><td>7281.5056</td></tr><tr><td>37</td><td>&quot;male&quot;</td><td>29.83</td><td>2</td><td>&quot;no&quot;</td><td>&quot;northeast&quot;</td><td>6406.4107</td></tr><tr><td>60</td><td>&quot;female&quot;</td><td>25.84</td><td>0</td><td>&quot;no&quot;</td><td>&quot;northwest&quot;</td><td>28923.13692</td></tr><tr><td>25</td><td>&quot;male&quot;</td><td>26.22</td><td>0</td><td>&quot;no&quot;</td><td>&quot;northeast&quot;</td><td>2721.3208</td></tr><tr><td>62</td><td>&quot;female&quot;</td><td>26.29</td><td>0</td><td>&quot;yes&quot;</td><td>&quot;southeast&quot;</td><td>27808.7251</td></tr><tr><td>&hellip;</td><td>&hellip;</td><td>&hellip;</td><td>&hellip;</td><td>&hellip;</td><td>&hellip;</td><td>&hellip;</td></tr><tr><td>42</td><td>&quot;female&quot;</td><td>32.87</td><td>0</td><td>&quot;no&quot;</td><td>&quot;northeast&quot;</td><td>7050.0213</td></tr><tr><td>51</td><td>&quot;male&quot;</td><td>30.03</td><td>1</td><td>&quot;no&quot;</td><td>&quot;southeast&quot;</td><td>9377.9047</td></tr><tr><td>23</td><td>&quot;female&quot;</td><td>24.225</td><td>2</td><td>&quot;no&quot;</td><td>&quot;northeast&quot;</td><td>22395.74424</td></tr><tr><td>52</td><td>&quot;male&quot;</td><td>38.6</td><td>2</td><td>&quot;no&quot;</td><td>&quot;southwest&quot;</td><td>10325.206</td></tr><tr><td>57</td><td>&quot;female&quot;</td><td>25.74</td><td>2</td><td>&quot;no&quot;</td><td>&quot;southeast&quot;</td><td>12629.1656</td></tr><tr><td>23</td><td>&quot;female&quot;</td><td>33.4</td><td>0</td><td>&quot;no&quot;</td><td>&quot;southwest&quot;</td><td>10795.93733</td></tr><tr><td>52</td><td>&quot;female&quot;</td><td>44.7</td><td>3</td><td>&quot;no&quot;</td><td>&quot;southwest&quot;</td><td>11411.685</td></tr><tr><td>50</td><td>&quot;male&quot;</td><td>30.97</td><td>3</td><td>&quot;no&quot;</td><td>&quot;northwest&quot;</td><td>10600.5483</td></tr><tr><td>18</td><td>&quot;female&quot;</td><td>31.92</td><td>0</td><td>&quot;no&quot;</td><td>&quot;northeast&quot;</td><td>2205.9808</td></tr><tr><td>18</td><td>&quot;female&quot;</td><td>36.85</td><td>0</td><td>&quot;no&quot;</td><td>&quot;southeast&quot;</td><td>1629.8335</td></tr><tr><td>21</td><td>&quot;female&quot;</td><td>25.8</td><td>0</td><td>&quot;no&quot;</td><td>&quot;southwest&quot;</td><td>2007.945</td></tr><tr><td>61</td><td>&quot;female&quot;</td><td>29.07</td><td>0</td><td>&quot;yes&quot;</td><td>&quot;northwest&quot;</td><td>29141.3603</td></tr></tbody></table></div>"
      ],
      "text/plain": [
       "shape: (1_338, 7)\n",
       "┌─────┬────────┬────────┬──────────┬────────┬───────────┬─────────────┐\n",
       "│ age ┆ sex    ┆ bmi    ┆ children ┆ smoker ┆ region    ┆ charges     │\n",
       "│ --- ┆ ---    ┆ ---    ┆ ---      ┆ ---    ┆ ---       ┆ ---         │\n",
       "│ i64 ┆ str    ┆ f64    ┆ i64      ┆ str    ┆ str       ┆ f64         │\n",
       "╞═════╪════════╪════════╪══════════╪════════╪═══════════╪═════════════╡\n",
       "│ 19  ┆ female ┆ 27.9   ┆ 0        ┆ yes    ┆ southwest ┆ 16884.924   │\n",
       "│ 18  ┆ male   ┆ 33.77  ┆ 1        ┆ no     ┆ southeast ┆ 1725.5523   │\n",
       "│ 28  ┆ male   ┆ 33.0   ┆ 3        ┆ no     ┆ southeast ┆ 4449.462    │\n",
       "│ 33  ┆ male   ┆ 22.705 ┆ 0        ┆ no     ┆ northwest ┆ 21984.47061 │\n",
       "│ …   ┆ …      ┆ …      ┆ …        ┆ …      ┆ …         ┆ …           │\n",
       "│ 18  ┆ female ┆ 31.92  ┆ 0        ┆ no     ┆ northeast ┆ 2205.9808   │\n",
       "│ 18  ┆ female ┆ 36.85  ┆ 0        ┆ no     ┆ southeast ┆ 1629.8335   │\n",
       "│ 21  ┆ female ┆ 25.8   ┆ 0        ┆ no     ┆ southwest ┆ 2007.945    │\n",
       "│ 61  ┆ female ┆ 29.07  ┆ 0        ┆ yes    ┆ northwest ┆ 29141.3603  │\n",
       "└─────┴────────┴────────┴──────────┴────────┴───────────┴─────────────┘"
      ]
     },
     "execution_count": 9,
     "metadata": {},
     "output_type": "execute_result"
    }
   ],
   "source": [
    "insurance.select(pl.col('*'))"
   ]
  },
  {
   "cell_type": "code",
   "execution_count": 12,
   "id": "b2bdf714",
   "metadata": {},
   "outputs": [],
   "source": [
    "insurance_month = insurance.with_columns((pl.col('charges')/12).alias('charges_per_month'))\n",
    "\n",
    "# insurance['charges_per_month'] = insurance['charges'] / 12"
   ]
  },
  {
   "cell_type": "code",
   "execution_count": 19,
   "id": "1dfd4f5a",
   "metadata": {},
   "outputs": [
    {
     "data": {
      "text/html": [
       "<div><style>\n",
       ".dataframe > thead > tr > th,\n",
       ".dataframe > tbody > tr > td {\n",
       "  text-align: right;\n",
       "}\n",
       "</style>\n",
       "<small>shape: (460, 8)</small><table border=\"1\" class=\"dataframe\"><thead><tr><th>age</th><th>sex</th><th>bmi</th><th>children</th><th>smoker</th><th>region</th><th>charges</th><th>charges_per_month</th></tr><tr><td>i64</td><td>str</td><td>f64</td><td>i64</td><td>str</td><td>str</td><td>f64</td><td>f64</td></tr></thead><tbody><tr><td>33</td><td>&quot;male&quot;</td><td>22.705</td><td>0</td><td>&quot;no&quot;</td><td>&quot;northwest&quot;</td><td>21984.47061</td><td>1832.039217</td></tr><tr><td>32</td><td>&quot;male&quot;</td><td>28.88</td><td>0</td><td>&quot;no&quot;</td><td>&quot;northwest&quot;</td><td>3866.8552</td><td>322.237933</td></tr><tr><td>37</td><td>&quot;male&quot;</td><td>29.83</td><td>2</td><td>&quot;no&quot;</td><td>&quot;northeast&quot;</td><td>6406.4107</td><td>533.867558</td></tr><tr><td>56</td><td>&quot;male&quot;</td><td>40.3</td><td>0</td><td>&quot;no&quot;</td><td>&quot;southwest&quot;</td><td>10602.385</td><td>883.532083</td></tr><tr><td>30</td><td>&quot;male&quot;</td><td>35.3</td><td>0</td><td>&quot;yes&quot;</td><td>&quot;southwest&quot;</td><td>36837.467</td><td>3069.788917</td></tr><tr><td>37</td><td>&quot;male&quot;</td><td>28.025</td><td>2</td><td>&quot;no&quot;</td><td>&quot;northwest&quot;</td><td>6203.90175</td><td>516.991813</td></tr><tr><td>31</td><td>&quot;male&quot;</td><td>36.3</td><td>2</td><td>&quot;yes&quot;</td><td>&quot;southwest&quot;</td><td>38711.0</td><td>3225.916667</td></tr><tr><td>63</td><td>&quot;male&quot;</td><td>28.31</td><td>0</td><td>&quot;no&quot;</td><td>&quot;northwest&quot;</td><td>13770.0979</td><td>1147.508158</td></tr><tr><td>35</td><td>&quot;male&quot;</td><td>36.67</td><td>1</td><td>&quot;yes&quot;</td><td>&quot;northeast&quot;</td><td>39774.2763</td><td>3314.523025</td></tr><tr><td>60</td><td>&quot;male&quot;</td><td>39.9</td><td>0</td><td>&quot;yes&quot;</td><td>&quot;southwest&quot;</td><td>48173.361</td><td>4014.44675</td></tr><tr><td>41</td><td>&quot;male&quot;</td><td>21.78</td><td>1</td><td>&quot;no&quot;</td><td>&quot;southeast&quot;</td><td>6272.4772</td><td>522.706433</td></tr><tr><td>38</td><td>&quot;male&quot;</td><td>37.05</td><td>1</td><td>&quot;no&quot;</td><td>&quot;northeast&quot;</td><td>6079.6715</td><td>506.639292</td></tr><tr><td>&hellip;</td><td>&hellip;</td><td>&hellip;</td><td>&hellip;</td><td>&hellip;</td><td>&hellip;</td><td>&hellip;</td><td>&hellip;</td></tr><tr><td>41</td><td>&quot;male&quot;</td><td>32.2</td><td>2</td><td>&quot;no&quot;</td><td>&quot;southwest&quot;</td><td>6875.961</td><td>572.99675</td></tr><tr><td>42</td><td>&quot;male&quot;</td><td>26.315</td><td>1</td><td>&quot;no&quot;</td><td>&quot;northwest&quot;</td><td>6940.90985</td><td>578.409154</td></tr><tr><td>34</td><td>&quot;male&quot;</td><td>42.9</td><td>1</td><td>&quot;no&quot;</td><td>&quot;southwest&quot;</td><td>4536.259</td><td>378.021583</td></tr><tr><td>35</td><td>&quot;male&quot;</td><td>39.71</td><td>4</td><td>&quot;no&quot;</td><td>&quot;northeast&quot;</td><td>19496.71917</td><td>1624.726598</td></tr><tr><td>31</td><td>&quot;male&quot;</td><td>31.065</td><td>3</td><td>&quot;no&quot;</td><td>&quot;northwest&quot;</td><td>5425.02335</td><td>452.085279</td></tr><tr><td>62</td><td>&quot;male&quot;</td><td>26.695</td><td>0</td><td>&quot;yes&quot;</td><td>&quot;northeast&quot;</td><td>28101.33305</td><td>2341.777754</td></tr><tr><td>62</td><td>&quot;male&quot;</td><td>38.83</td><td>0</td><td>&quot;no&quot;</td><td>&quot;southeast&quot;</td><td>12981.3457</td><td>1081.778808</td></tr><tr><td>31</td><td>&quot;male&quot;</td><td>25.935</td><td>1</td><td>&quot;no&quot;</td><td>&quot;northwest&quot;</td><td>4239.89265</td><td>353.324388</td></tr><tr><td>61</td><td>&quot;male&quot;</td><td>33.535</td><td>0</td><td>&quot;no&quot;</td><td>&quot;northeast&quot;</td><td>13143.33665</td><td>1095.278054</td></tr><tr><td>51</td><td>&quot;male&quot;</td><td>30.03</td><td>1</td><td>&quot;no&quot;</td><td>&quot;southeast&quot;</td><td>9377.9047</td><td>781.492058</td></tr><tr><td>52</td><td>&quot;male&quot;</td><td>38.6</td><td>2</td><td>&quot;no&quot;</td><td>&quot;southwest&quot;</td><td>10325.206</td><td>860.433833</td></tr><tr><td>50</td><td>&quot;male&quot;</td><td>30.97</td><td>3</td><td>&quot;no&quot;</td><td>&quot;northwest&quot;</td><td>10600.5483</td><td>883.379025</td></tr></tbody></table></div>"
      ],
      "text/plain": [
       "shape: (460, 8)\n",
       "┌─────┬──────┬────────┬──────────┬────────┬───────────┬─────────────┬───────────────────┐\n",
       "│ age ┆ sex  ┆ bmi    ┆ children ┆ smoker ┆ region    ┆ charges     ┆ charges_per_month │\n",
       "│ --- ┆ ---  ┆ ---    ┆ ---      ┆ ---    ┆ ---       ┆ ---         ┆ ---               │\n",
       "│ i64 ┆ str  ┆ f64    ┆ i64      ┆ str    ┆ str       ┆ f64         ┆ f64               │\n",
       "╞═════╪══════╪════════╪══════════╪════════╪═══════════╪═════════════╪═══════════════════╡\n",
       "│ 33  ┆ male ┆ 22.705 ┆ 0        ┆ no     ┆ northwest ┆ 21984.47061 ┆ 1832.039217       │\n",
       "│ 32  ┆ male ┆ 28.88  ┆ 0        ┆ no     ┆ northwest ┆ 3866.8552   ┆ 322.237933        │\n",
       "│ 37  ┆ male ┆ 29.83  ┆ 2        ┆ no     ┆ northeast ┆ 6406.4107   ┆ 533.867558        │\n",
       "│ 56  ┆ male ┆ 40.3   ┆ 0        ┆ no     ┆ southwest ┆ 10602.385   ┆ 883.532083        │\n",
       "│ …   ┆ …    ┆ …      ┆ …        ┆ …      ┆ …         ┆ …           ┆ …                 │\n",
       "│ 61  ┆ male ┆ 33.535 ┆ 0        ┆ no     ┆ northeast ┆ 13143.33665 ┆ 1095.278054       │\n",
       "│ 51  ┆ male ┆ 30.03  ┆ 1        ┆ no     ┆ southeast ┆ 9377.9047   ┆ 781.492058        │\n",
       "│ 52  ┆ male ┆ 38.6   ┆ 2        ┆ no     ┆ southwest ┆ 10325.206   ┆ 860.433833        │\n",
       "│ 50  ┆ male ┆ 30.97  ┆ 3        ┆ no     ┆ northwest ┆ 10600.5483  ┆ 883.379025        │\n",
       "└─────┴──────┴────────┴──────────┴────────┴───────────┴─────────────┴───────────────────┘"
      ]
     },
     "execution_count": 19,
     "metadata": {},
     "output_type": "execute_result"
    }
   ],
   "source": [
    "insurance_month.filter((pl.col('age') >=  30) & (pl.col('sex') == 'male'))"
   ]
  },
  {
   "cell_type": "code",
   "execution_count": 22,
   "id": "2a2ff31b",
   "metadata": {},
   "outputs": [
    {
     "data": {
      "text/html": [
       "<div><style>\n",
       ".dataframe > thead > tr > th,\n",
       ".dataframe > tbody > tr > td {\n",
       "  text-align: right;\n",
       "}\n",
       "</style>\n",
       "<small>shape: (2, 2)</small><table border=\"1\" class=\"dataframe\"><thead><tr><th>sex</th><th>count</th></tr><tr><td>str</td><td>u32</td></tr></thead><tbody><tr><td>&quot;male&quot;</td><td>676</td></tr><tr><td>&quot;female&quot;</td><td>662</td></tr></tbody></table></div>"
      ],
      "text/plain": [
       "shape: (2, 2)\n",
       "┌────────┬───────┐\n",
       "│ sex    ┆ count │\n",
       "│ ---    ┆ ---   │\n",
       "│ str    ┆ u32   │\n",
       "╞════════╪═══════╡\n",
       "│ male   ┆ 676   │\n",
       "│ female ┆ 662   │\n",
       "└────────┴───────┘"
      ]
     },
     "execution_count": 22,
     "metadata": {},
     "output_type": "execute_result"
    }
   ],
   "source": [
    "insurance_month.groupby('sex').count()"
   ]
  },
  {
   "cell_type": "code",
   "execution_count": 24,
   "id": "5003636d",
   "metadata": {},
   "outputs": [
    {
     "data": {
      "text/html": [
       "<div><style>\n",
       ".dataframe > thead > tr > th,\n",
       ".dataframe > tbody > tr > td {\n",
       "  text-align: right;\n",
       "}\n",
       "</style>\n",
       "<small>shape: (8, 3)</small><table border=\"1\" class=\"dataframe\"><thead><tr><th>employee_id</th><th>name</th><th>department</th></tr><tr><td>i64</td><td>str</td><td>str</td></tr></thead><tbody><tr><td>1</td><td>&quot;Michael Scott&quot;</td><td>&quot;Management&quot;</td></tr><tr><td>2</td><td>&quot;Jim Halpert&quot;</td><td>&quot;Sales&quot;</td></tr><tr><td>3</td><td>&quot;Pam Beesly&quot;</td><td>&quot;Reception&quot;</td></tr><tr><td>5</td><td>&quot;Angela Martin&quot;</td><td>&quot;Accounting&quot;</td></tr><tr><td>6</td><td>&quot;Kevin Malone&quot;</td><td>&quot;Accounting&quot;</td></tr><tr><td>7</td><td>&quot;Oscar Martinez…</td><td>&quot;Accounting&quot;</td></tr><tr><td>8</td><td>&quot;Stanley Hudson…</td><td>&quot;Sales&quot;</td></tr><tr><td>9</td><td>&quot;Phyllis Vance&quot;</td><td>&quot;Sales&quot;</td></tr></tbody></table></div>"
      ],
      "text/plain": [
       "shape: (8, 3)\n",
       "┌─────────────┬────────────────┬────────────┐\n",
       "│ employee_id ┆ name           ┆ department │\n",
       "│ ---         ┆ ---            ┆ ---        │\n",
       "│ i64         ┆ str            ┆ str        │\n",
       "╞═════════════╪════════════════╪════════════╡\n",
       "│ 1           ┆ Michael Scott  ┆ Management │\n",
       "│ 2           ┆ Jim Halpert    ┆ Sales      │\n",
       "│ 3           ┆ Pam Beesly     ┆ Reception  │\n",
       "│ 5           ┆ Angela Martin  ┆ Accounting │\n",
       "│ 6           ┆ Kevin Malone   ┆ Accounting │\n",
       "│ 7           ┆ Oscar Martinez ┆ Accounting │\n",
       "│ 8           ┆ Stanley Hudson ┆ Sales      │\n",
       "│ 9           ┆ Phyllis Vance  ┆ Sales      │\n",
       "└─────────────┴────────────────┴────────────┘"
      ]
     },
     "execution_count": 24,
     "metadata": {},
     "output_type": "execute_result"
    }
   ],
   "source": [
    "data1 = {\n",
    "    'employee_id': [1, 2, 3, 4, 5, 6, 7, 8],\n",
    "    'name': ['Michael Scott', 'Jim Halpert', 'Pam Beesly', 'Dwight Schrute', 'Angela Martin', 'Kevin Malone', 'Oscar Martinez', 'Stanley Hudson'],\n",
    "    'job_title': ['Regional Manager', 'Sales Representative', 'Receptionist', 'Assistant to the Regional Manager', 'Head of Accounting', 'Accountant', 'Accountant', 'Sales Representative'],\n",
    "    'salary': [100000, 60000, 55000, 65000, 60000, 55000, 55000, 60000]\n",
    "}\n",
    "\n",
    "df1 = pl.DataFrame(data1)\n",
    "\n",
    "data2 = {\n",
    "    'employee_id': [1, 2, 3, 5, 6, 7, 8, 9],\n",
    "    'name': ['Michael Scott', 'Jim Halpert', 'Pam Beesly', 'Angela Martin', 'Kevin Malone', 'Oscar Martinez', 'Stanley Hudson', 'Phyllis Vance'],\n",
    "    'department': ['Management', 'Sales', 'Reception', 'Accounting', 'Accounting', 'Accounting', 'Sales', 'Sales']\n",
    "}\n",
    "\n",
    "df2 = pl.DataFrame(data2)\n",
    "\n",
    "df2"
   ]
  },
  {
   "cell_type": "code",
   "execution_count": 25,
   "id": "4fe38d19",
   "metadata": {},
   "outputs": [
    {
     "data": {
      "text/html": [
       "<div><style>\n",
       ".dataframe > thead > tr > th,\n",
       ".dataframe > tbody > tr > td {\n",
       "  text-align: right;\n",
       "}\n",
       "</style>\n",
       "<small>shape: (8, 4)</small><table border=\"1\" class=\"dataframe\"><thead><tr><th>employee_id</th><th>name</th><th>job_title</th><th>salary</th></tr><tr><td>i64</td><td>str</td><td>str</td><td>i64</td></tr></thead><tbody><tr><td>1</td><td>&quot;Michael Scott&quot;</td><td>&quot;Regional Manag…</td><td>100000</td></tr><tr><td>2</td><td>&quot;Jim Halpert&quot;</td><td>&quot;Sales Represen…</td><td>60000</td></tr><tr><td>3</td><td>&quot;Pam Beesly&quot;</td><td>&quot;Receptionist&quot;</td><td>55000</td></tr><tr><td>4</td><td>&quot;Dwight Schrute…</td><td>&quot;Assistant to t…</td><td>65000</td></tr><tr><td>5</td><td>&quot;Angela Martin&quot;</td><td>&quot;Head of Accoun…</td><td>60000</td></tr><tr><td>6</td><td>&quot;Kevin Malone&quot;</td><td>&quot;Accountant&quot;</td><td>55000</td></tr><tr><td>7</td><td>&quot;Oscar Martinez…</td><td>&quot;Accountant&quot;</td><td>55000</td></tr><tr><td>8</td><td>&quot;Stanley Hudson…</td><td>&quot;Sales Represen…</td><td>60000</td></tr></tbody></table></div>"
      ],
      "text/plain": [
       "shape: (8, 4)\n",
       "┌─────────────┬────────────────┬───────────────────────────────────┬────────┐\n",
       "│ employee_id ┆ name           ┆ job_title                         ┆ salary │\n",
       "│ ---         ┆ ---            ┆ ---                               ┆ ---    │\n",
       "│ i64         ┆ str            ┆ str                               ┆ i64    │\n",
       "╞═════════════╪════════════════╪═══════════════════════════════════╪════════╡\n",
       "│ 1           ┆ Michael Scott  ┆ Regional Manager                  ┆ 100000 │\n",
       "│ 2           ┆ Jim Halpert    ┆ Sales Representative              ┆ 60000  │\n",
       "│ 3           ┆ Pam Beesly     ┆ Receptionist                      ┆ 55000  │\n",
       "│ 4           ┆ Dwight Schrute ┆ Assistant to the Regional Manage… ┆ 65000  │\n",
       "│ 5           ┆ Angela Martin  ┆ Head of Accounting                ┆ 60000  │\n",
       "│ 6           ┆ Kevin Malone   ┆ Accountant                        ┆ 55000  │\n",
       "│ 7           ┆ Oscar Martinez ┆ Accountant                        ┆ 55000  │\n",
       "│ 8           ┆ Stanley Hudson ┆ Sales Representative              ┆ 60000  │\n",
       "└─────────────┴────────────────┴───────────────────────────────────┴────────┘"
      ]
     },
     "execution_count": 25,
     "metadata": {},
     "output_type": "execute_result"
    }
   ],
   "source": [
    "df1"
   ]
  },
  {
   "cell_type": "code",
   "execution_count": 39,
   "id": "e6f1fa5f",
   "metadata": {},
   "outputs": [
    {
     "data": {
      "text/html": [
       "<div><style>\n",
       ".dataframe > thead > tr > th,\n",
       ".dataframe > tbody > tr > td {\n",
       "  text-align: right;\n",
       "}\n",
       "</style>\n",
       "<small>shape: (64, 7)</small><table border=\"1\" class=\"dataframe\"><thead><tr><th>employee_id</th><th>name</th><th>job_title</th><th>salary</th><th>employee_id_right</th><th>name_right</th><th>department</th></tr><tr><td>i64</td><td>str</td><td>str</td><td>i64</td><td>i64</td><td>str</td><td>str</td></tr></thead><tbody><tr><td>1</td><td>&quot;Michael Scott&quot;</td><td>&quot;Regional Manag…</td><td>100000</td><td>1</td><td>&quot;Michael Scott&quot;</td><td>&quot;Management&quot;</td></tr><tr><td>1</td><td>&quot;Michael Scott&quot;</td><td>&quot;Regional Manag…</td><td>100000</td><td>2</td><td>&quot;Jim Halpert&quot;</td><td>&quot;Sales&quot;</td></tr><tr><td>1</td><td>&quot;Michael Scott&quot;</td><td>&quot;Regional Manag…</td><td>100000</td><td>3</td><td>&quot;Pam Beesly&quot;</td><td>&quot;Reception&quot;</td></tr><tr><td>1</td><td>&quot;Michael Scott&quot;</td><td>&quot;Regional Manag…</td><td>100000</td><td>5</td><td>&quot;Angela Martin&quot;</td><td>&quot;Accounting&quot;</td></tr><tr><td>1</td><td>&quot;Michael Scott&quot;</td><td>&quot;Regional Manag…</td><td>100000</td><td>6</td><td>&quot;Kevin Malone&quot;</td><td>&quot;Accounting&quot;</td></tr><tr><td>1</td><td>&quot;Michael Scott&quot;</td><td>&quot;Regional Manag…</td><td>100000</td><td>7</td><td>&quot;Oscar Martinez…</td><td>&quot;Accounting&quot;</td></tr><tr><td>1</td><td>&quot;Michael Scott&quot;</td><td>&quot;Regional Manag…</td><td>100000</td><td>8</td><td>&quot;Stanley Hudson…</td><td>&quot;Sales&quot;</td></tr><tr><td>1</td><td>&quot;Michael Scott&quot;</td><td>&quot;Regional Manag…</td><td>100000</td><td>9</td><td>&quot;Phyllis Vance&quot;</td><td>&quot;Sales&quot;</td></tr><tr><td>2</td><td>&quot;Jim Halpert&quot;</td><td>&quot;Sales Represen…</td><td>60000</td><td>1</td><td>&quot;Michael Scott&quot;</td><td>&quot;Management&quot;</td></tr><tr><td>2</td><td>&quot;Jim Halpert&quot;</td><td>&quot;Sales Represen…</td><td>60000</td><td>2</td><td>&quot;Jim Halpert&quot;</td><td>&quot;Sales&quot;</td></tr><tr><td>2</td><td>&quot;Jim Halpert&quot;</td><td>&quot;Sales Represen…</td><td>60000</td><td>3</td><td>&quot;Pam Beesly&quot;</td><td>&quot;Reception&quot;</td></tr><tr><td>2</td><td>&quot;Jim Halpert&quot;</td><td>&quot;Sales Represen…</td><td>60000</td><td>5</td><td>&quot;Angela Martin&quot;</td><td>&quot;Accounting&quot;</td></tr><tr><td>&hellip;</td><td>&hellip;</td><td>&hellip;</td><td>&hellip;</td><td>&hellip;</td><td>&hellip;</td><td>&hellip;</td></tr><tr><td>7</td><td>&quot;Oscar Martinez…</td><td>&quot;Accountant&quot;</td><td>55000</td><td>6</td><td>&quot;Kevin Malone&quot;</td><td>&quot;Accounting&quot;</td></tr><tr><td>7</td><td>&quot;Oscar Martinez…</td><td>&quot;Accountant&quot;</td><td>55000</td><td>7</td><td>&quot;Oscar Martinez…</td><td>&quot;Accounting&quot;</td></tr><tr><td>7</td><td>&quot;Oscar Martinez…</td><td>&quot;Accountant&quot;</td><td>55000</td><td>8</td><td>&quot;Stanley Hudson…</td><td>&quot;Sales&quot;</td></tr><tr><td>7</td><td>&quot;Oscar Martinez…</td><td>&quot;Accountant&quot;</td><td>55000</td><td>9</td><td>&quot;Phyllis Vance&quot;</td><td>&quot;Sales&quot;</td></tr><tr><td>8</td><td>&quot;Stanley Hudson…</td><td>&quot;Sales Represen…</td><td>60000</td><td>1</td><td>&quot;Michael Scott&quot;</td><td>&quot;Management&quot;</td></tr><tr><td>8</td><td>&quot;Stanley Hudson…</td><td>&quot;Sales Represen…</td><td>60000</td><td>2</td><td>&quot;Jim Halpert&quot;</td><td>&quot;Sales&quot;</td></tr><tr><td>8</td><td>&quot;Stanley Hudson…</td><td>&quot;Sales Represen…</td><td>60000</td><td>3</td><td>&quot;Pam Beesly&quot;</td><td>&quot;Reception&quot;</td></tr><tr><td>8</td><td>&quot;Stanley Hudson…</td><td>&quot;Sales Represen…</td><td>60000</td><td>5</td><td>&quot;Angela Martin&quot;</td><td>&quot;Accounting&quot;</td></tr><tr><td>8</td><td>&quot;Stanley Hudson…</td><td>&quot;Sales Represen…</td><td>60000</td><td>6</td><td>&quot;Kevin Malone&quot;</td><td>&quot;Accounting&quot;</td></tr><tr><td>8</td><td>&quot;Stanley Hudson…</td><td>&quot;Sales Represen…</td><td>60000</td><td>7</td><td>&quot;Oscar Martinez…</td><td>&quot;Accounting&quot;</td></tr><tr><td>8</td><td>&quot;Stanley Hudson…</td><td>&quot;Sales Represen…</td><td>60000</td><td>8</td><td>&quot;Stanley Hudson…</td><td>&quot;Sales&quot;</td></tr><tr><td>8</td><td>&quot;Stanley Hudson…</td><td>&quot;Sales Represen…</td><td>60000</td><td>9</td><td>&quot;Phyllis Vance&quot;</td><td>&quot;Sales&quot;</td></tr></tbody></table></div>"
      ],
      "text/plain": [
       "shape: (64, 7)\n",
       "┌─────────────┬─────────┬─────────────────┬────────┬─────────────────┬────────────────┬────────────┐\n",
       "│ employee_id ┆ name    ┆ job_title       ┆ salary ┆ employee_id_rig ┆ name_right     ┆ department │\n",
       "│ ---         ┆ ---     ┆ ---             ┆ ---    ┆ ht              ┆ ---            ┆ ---        │\n",
       "│ i64         ┆ str     ┆ str             ┆ i64    ┆ ---             ┆ str            ┆ str        │\n",
       "│             ┆         ┆                 ┆        ┆ i64             ┆                ┆            │\n",
       "╞═════════════╪═════════╪═════════════════╪════════╪═════════════════╪════════════════╪════════════╡\n",
       "│ 1           ┆ Michael ┆ Regional        ┆ 100000 ┆ 1               ┆ Michael Scott  ┆ Management │\n",
       "│             ┆ Scott   ┆ Manager         ┆        ┆                 ┆                ┆            │\n",
       "│ 1           ┆ Michael ┆ Regional        ┆ 100000 ┆ 2               ┆ Jim Halpert    ┆ Sales      │\n",
       "│             ┆ Scott   ┆ Manager         ┆        ┆                 ┆                ┆            │\n",
       "│ 1           ┆ Michael ┆ Regional        ┆ 100000 ┆ 3               ┆ Pam Beesly     ┆ Reception  │\n",
       "│             ┆ Scott   ┆ Manager         ┆        ┆                 ┆                ┆            │\n",
       "│ 1           ┆ Michael ┆ Regional        ┆ 100000 ┆ 5               ┆ Angela Martin  ┆ Accounting │\n",
       "│             ┆ Scott   ┆ Manager         ┆        ┆                 ┆                ┆            │\n",
       "│ …           ┆ …       ┆ …               ┆ …      ┆ …               ┆ …              ┆ …          │\n",
       "│ 8           ┆ Stanley ┆ Sales           ┆ 60000  ┆ 6               ┆ Kevin Malone   ┆ Accounting │\n",
       "│             ┆ Hudson  ┆ Representative  ┆        ┆                 ┆                ┆            │\n",
       "│ 8           ┆ Stanley ┆ Sales           ┆ 60000  ┆ 7               ┆ Oscar Martinez ┆ Accounting │\n",
       "│             ┆ Hudson  ┆ Representative  ┆        ┆                 ┆                ┆            │\n",
       "│ 8           ┆ Stanley ┆ Sales           ┆ 60000  ┆ 8               ┆ Stanley Hudson ┆ Sales      │\n",
       "│             ┆ Hudson  ┆ Representative  ┆        ┆                 ┆                ┆            │\n",
       "│ 8           ┆ Stanley ┆ Sales           ┆ 60000  ┆ 9               ┆ Phyllis Vance  ┆ Sales      │\n",
       "│             ┆ Hudson  ┆ Representative  ┆        ┆                 ┆                ┆            │\n",
       "└─────────────┴─────────┴─────────────────┴────────┴─────────────────┴────────────────┴────────────┘"
      ]
     },
     "execution_count": 39,
     "metadata": {},
     "output_type": "execute_result"
    }
   ],
   "source": [
    "df1.join(df2, on = 'employee_id', how = 'cross')"
   ]
  },
  {
   "cell_type": "code",
   "execution_count": null,
   "id": "e931a79e",
   "metadata": {},
   "outputs": [],
   "source": []
  },
  {
   "cell_type": "code",
   "execution_count": null,
   "id": "ccab0ad8",
   "metadata": {},
   "outputs": [],
   "source": []
  },
  {
   "cell_type": "code",
   "execution_count": null,
   "id": "383e44b7",
   "metadata": {},
   "outputs": [],
   "source": []
  },
  {
   "cell_type": "code",
   "execution_count": null,
   "id": "1407c7eb",
   "metadata": {},
   "outputs": [],
   "source": []
  },
  {
   "cell_type": "code",
   "execution_count": null,
   "id": "3b0d2a3f",
   "metadata": {},
   "outputs": [],
   "source": []
  },
  {
   "cell_type": "code",
   "execution_count": null,
   "id": "e652bc86",
   "metadata": {},
   "outputs": [],
   "source": []
  },
  {
   "cell_type": "code",
   "execution_count": null,
   "id": "e2111b2b",
   "metadata": {},
   "outputs": [],
   "source": []
  },
  {
   "cell_type": "code",
   "execution_count": null,
   "id": "6a21ff04",
   "metadata": {},
   "outputs": [],
   "source": []
  },
  {
   "cell_type": "code",
   "execution_count": null,
   "id": "776c585f",
   "metadata": {},
   "outputs": [],
   "source": []
  },
  {
   "cell_type": "code",
   "execution_count": null,
   "id": "dd8eab9c",
   "metadata": {},
   "outputs": [],
   "source": []
  },
  {
   "cell_type": "code",
   "execution_count": null,
   "id": "66f82353",
   "metadata": {},
   "outputs": [],
   "source": []
  },
  {
   "cell_type": "code",
   "execution_count": null,
   "id": "75645f26",
   "metadata": {},
   "outputs": [],
   "source": []
  },
  {
   "cell_type": "code",
   "execution_count": null,
   "id": "6d4d185d",
   "metadata": {},
   "outputs": [],
   "source": []
  },
  {
   "cell_type": "code",
   "execution_count": null,
   "id": "0d847e43",
   "metadata": {},
   "outputs": [],
   "source": []
  },
  {
   "cell_type": "code",
   "execution_count": null,
   "id": "ea672205",
   "metadata": {},
   "outputs": [],
   "source": []
  },
  {
   "cell_type": "code",
   "execution_count": null,
   "id": "7865034f",
   "metadata": {},
   "outputs": [],
   "source": []
  },
  {
   "cell_type": "code",
   "execution_count": null,
   "id": "bf25206b",
   "metadata": {},
   "outputs": [],
   "source": []
  },
  {
   "cell_type": "code",
   "execution_count": null,
   "id": "3103574c",
   "metadata": {},
   "outputs": [],
   "source": []
  },
  {
   "cell_type": "code",
   "execution_count": null,
   "id": "318d8cde",
   "metadata": {},
   "outputs": [],
   "source": []
  },
  {
   "cell_type": "code",
   "execution_count": null,
   "id": "f4bb04c3",
   "metadata": {},
   "outputs": [],
   "source": []
  },
  {
   "cell_type": "code",
   "execution_count": null,
   "id": "396bb399",
   "metadata": {},
   "outputs": [],
   "source": []
  },
  {
   "cell_type": "code",
   "execution_count": null,
   "id": "884829d3",
   "metadata": {},
   "outputs": [],
   "source": []
  },
  {
   "cell_type": "code",
   "execution_count": null,
   "id": "0fd05853",
   "metadata": {},
   "outputs": [],
   "source": []
  },
  {
   "cell_type": "code",
   "execution_count": null,
   "id": "d6b3250f",
   "metadata": {},
   "outputs": [],
   "source": []
  },
  {
   "cell_type": "code",
   "execution_count": null,
   "id": "20f0d248",
   "metadata": {},
   "outputs": [],
   "source": []
  },
  {
   "cell_type": "code",
   "execution_count": null,
   "id": "cda55cc6",
   "metadata": {},
   "outputs": [],
   "source": []
  },
  {
   "cell_type": "code",
   "execution_count": null,
   "id": "490c3057",
   "metadata": {},
   "outputs": [],
   "source": []
  },
  {
   "cell_type": "code",
   "execution_count": null,
   "id": "e93a03d6",
   "metadata": {},
   "outputs": [],
   "source": []
  },
  {
   "cell_type": "code",
   "execution_count": null,
   "id": "7859c977",
   "metadata": {},
   "outputs": [],
   "source": []
  },
  {
   "cell_type": "code",
   "execution_count": null,
   "id": "c3277935",
   "metadata": {},
   "outputs": [],
   "source": []
  },
  {
   "cell_type": "code",
   "execution_count": null,
   "id": "69568894",
   "metadata": {},
   "outputs": [],
   "source": []
  },
  {
   "cell_type": "code",
   "execution_count": null,
   "id": "5faea94a",
   "metadata": {},
   "outputs": [],
   "source": []
  },
  {
   "cell_type": "code",
   "execution_count": null,
   "id": "3c43b890",
   "metadata": {},
   "outputs": [],
   "source": []
  },
  {
   "cell_type": "code",
   "execution_count": null,
   "id": "c8dfbf0f",
   "metadata": {},
   "outputs": [],
   "source": []
  },
  {
   "cell_type": "code",
   "execution_count": null,
   "id": "860773b9",
   "metadata": {},
   "outputs": [],
   "source": []
  },
  {
   "cell_type": "code",
   "execution_count": null,
   "id": "c50e0169",
   "metadata": {},
   "outputs": [],
   "source": []
  },
  {
   "cell_type": "code",
   "execution_count": null,
   "id": "2b5ed337",
   "metadata": {},
   "outputs": [],
   "source": []
  },
  {
   "cell_type": "code",
   "execution_count": null,
   "id": "0505801d",
   "metadata": {},
   "outputs": [],
   "source": []
  },
  {
   "cell_type": "code",
   "execution_count": null,
   "id": "873ac3f5",
   "metadata": {},
   "outputs": [],
   "source": []
  },
  {
   "cell_type": "code",
   "execution_count": null,
   "id": "c68e98cb",
   "metadata": {},
   "outputs": [],
   "source": []
  },
  {
   "cell_type": "code",
   "execution_count": null,
   "id": "afd8af01",
   "metadata": {},
   "outputs": [],
   "source": []
  },
  {
   "cell_type": "code",
   "execution_count": null,
   "id": "290e7fa0",
   "metadata": {},
   "outputs": [],
   "source": []
  },
  {
   "cell_type": "code",
   "execution_count": null,
   "id": "6d9ec298",
   "metadata": {},
   "outputs": [],
   "source": []
  },
  {
   "cell_type": "code",
   "execution_count": null,
   "id": "b543dc49",
   "metadata": {},
   "outputs": [],
   "source": []
  },
  {
   "cell_type": "code",
   "execution_count": null,
   "id": "55a2a2ee",
   "metadata": {},
   "outputs": [],
   "source": []
  },
  {
   "cell_type": "code",
   "execution_count": null,
   "id": "745005a1",
   "metadata": {},
   "outputs": [],
   "source": []
  },
  {
   "cell_type": "code",
   "execution_count": null,
   "id": "56675b2a",
   "metadata": {},
   "outputs": [],
   "source": []
  },
  {
   "cell_type": "code",
   "execution_count": null,
   "id": "cf831302",
   "metadata": {},
   "outputs": [],
   "source": []
  },
  {
   "cell_type": "code",
   "execution_count": null,
   "id": "90337e15",
   "metadata": {},
   "outputs": [],
   "source": []
  },
  {
   "cell_type": "code",
   "execution_count": null,
   "id": "b7b11ec6",
   "metadata": {},
   "outputs": [],
   "source": []
  },
  {
   "cell_type": "code",
   "execution_count": null,
   "id": "d7bf334e",
   "metadata": {},
   "outputs": [],
   "source": []
  },
  {
   "cell_type": "code",
   "execution_count": null,
   "id": "4dff2a51",
   "metadata": {},
   "outputs": [],
   "source": []
  },
  {
   "cell_type": "code",
   "execution_count": null,
   "id": "5d07714f",
   "metadata": {},
   "outputs": [],
   "source": []
  },
  {
   "cell_type": "code",
   "execution_count": null,
   "id": "a5969fc3",
   "metadata": {},
   "outputs": [],
   "source": []
  }
 ],
 "metadata": {
  "kernelspec": {
   "display_name": "Python 3 (ipykernel)",
   "language": "python",
   "name": "python3"
  },
  "language_info": {
   "codemirror_mode": {
    "name": "ipython",
    "version": 3
   },
   "file_extension": ".py",
   "mimetype": "text/x-python",
   "name": "python",
   "nbconvert_exporter": "python",
   "pygments_lexer": "ipython3",
   "version": "3.10.9"
  }
 },
 "nbformat": 4,
 "nbformat_minor": 5
}
