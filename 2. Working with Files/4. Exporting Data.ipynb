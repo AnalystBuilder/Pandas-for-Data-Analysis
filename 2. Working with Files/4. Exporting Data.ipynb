{
 "cells": [
  {
   "cell_type": "markdown",
   "id": "37a70366",
   "metadata": {},
   "source": [
    "# Exporting Data"
   ]
  },
  {
   "cell_type": "code",
   "execution_count": 1,
   "id": "c7ff61e3",
   "metadata": {},
   "outputs": [],
   "source": [
    "import pandas as pd"
   ]
  },
  {
   "cell_type": "code",
   "execution_count": 2,
   "id": "bcd10f41",
   "metadata": {},
   "outputs": [
    {
     "data": {
      "text/html": [
       "<div>\n",
       "<style scoped>\n",
       "    .dataframe tbody tr th:only-of-type {\n",
       "        vertical-align: middle;\n",
       "    }\n",
       "\n",
       "    .dataframe tbody tr th {\n",
       "        vertical-align: top;\n",
       "    }\n",
       "\n",
       "    .dataframe thead th {\n",
       "        text-align: right;\n",
       "    }\n",
       "</style>\n",
       "<table border=\"1\" class=\"dataframe\">\n",
       "  <thead>\n",
       "    <tr style=\"text-align: right;\">\n",
       "      <th></th>\n",
       "      <th>employee_id</th>\n",
       "      <th>first_name</th>\n",
       "      <th>last_name</th>\n",
       "      <th>age</th>\n",
       "      <th>gender</th>\n",
       "      <th>birth_date</th>\n",
       "    </tr>\n",
       "  </thead>\n",
       "  <tbody>\n",
       "    <tr>\n",
       "      <th>0</th>\n",
       "      <td>1</td>\n",
       "      <td>Leslie</td>\n",
       "      <td>Knope</td>\n",
       "      <td>44.0</td>\n",
       "      <td>Female</td>\n",
       "      <td>9/25/1979</td>\n",
       "    </tr>\n",
       "    <tr>\n",
       "      <th>1</th>\n",
       "      <td>3</td>\n",
       "      <td>Tom</td>\n",
       "      <td>Haverford</td>\n",
       "      <td>36.0</td>\n",
       "      <td>Male</td>\n",
       "      <td>3/4/1987</td>\n",
       "    </tr>\n",
       "    <tr>\n",
       "      <th>2</th>\n",
       "      <td>4</td>\n",
       "      <td>April</td>\n",
       "      <td>Ludgate</td>\n",
       "      <td>29.0</td>\n",
       "      <td>Female</td>\n",
       "      <td>3/27/1994</td>\n",
       "    </tr>\n",
       "    <tr>\n",
       "      <th>3</th>\n",
       "      <td>6</td>\n",
       "      <td>Donna</td>\n",
       "      <td>Meagle</td>\n",
       "      <td>46.0</td>\n",
       "      <td>Female</td>\n",
       "      <td>7/30/1977</td>\n",
       "    </tr>\n",
       "    <tr>\n",
       "      <th>4</th>\n",
       "      <td>7</td>\n",
       "      <td>Ann</td>\n",
       "      <td>Perkins</td>\n",
       "      <td>35.0</td>\n",
       "      <td>Female</td>\n",
       "      <td>12/1/1988</td>\n",
       "    </tr>\n",
       "    <tr>\n",
       "      <th>5</th>\n",
       "      <td>8</td>\n",
       "      <td>Chris</td>\n",
       "      <td>Traeger</td>\n",
       "      <td>43.0</td>\n",
       "      <td>Male</td>\n",
       "      <td>11/11/1980</td>\n",
       "    </tr>\n",
       "    <tr>\n",
       "      <th>6</th>\n",
       "      <td>9</td>\n",
       "      <td>Ben</td>\n",
       "      <td>Wyatt</td>\n",
       "      <td>38.0</td>\n",
       "      <td>Male</td>\n",
       "      <td>7/26/1985</td>\n",
       "    </tr>\n",
       "    <tr>\n",
       "      <th>7</th>\n",
       "      <td>10</td>\n",
       "      <td>Andy</td>\n",
       "      <td>Dwyer</td>\n",
       "      <td>34.0</td>\n",
       "      <td>Male</td>\n",
       "      <td>3/25/1989</td>\n",
       "    </tr>\n",
       "    <tr>\n",
       "      <th>8</th>\n",
       "      <td>11</td>\n",
       "      <td>Mark</td>\n",
       "      <td>Brendanawicz</td>\n",
       "      <td>40.0</td>\n",
       "      <td>Male</td>\n",
       "      <td>6/14/1983</td>\n",
       "    </tr>\n",
       "    <tr>\n",
       "      <th>9</th>\n",
       "      <td>12</td>\n",
       "      <td>Craig</td>\n",
       "      <td>Middlebrooks</td>\n",
       "      <td>37.0</td>\n",
       "      <td>Male</td>\n",
       "      <td>7/27/1986</td>\n",
       "    </tr>\n",
       "    <tr>\n",
       "      <th>10</th>\n",
       "      <td>13</td>\n",
       "      <td>Jean-Ralphio</td>\n",
       "      <td>Saperstein</td>\n",
       "      <td>NaN</td>\n",
       "      <td>NaN</td>\n",
       "      <td>NaN</td>\n",
       "    </tr>\n",
       "  </tbody>\n",
       "</table>\n",
       "</div>"
      ],
      "text/plain": [
       "    employee_id    first_name     last_name   age  gender  birth_date\n",
       "0             1        Leslie         Knope  44.0  Female   9/25/1979\n",
       "1             3           Tom     Haverford  36.0    Male    3/4/1987\n",
       "2             4         April       Ludgate  29.0  Female   3/27/1994\n",
       "3             6         Donna        Meagle  46.0  Female   7/30/1977\n",
       "4             7           Ann       Perkins  35.0  Female   12/1/1988\n",
       "5             8         Chris       Traeger  43.0    Male  11/11/1980\n",
       "6             9           Ben         Wyatt  38.0    Male   7/26/1985\n",
       "7            10          Andy         Dwyer  34.0    Male   3/25/1989\n",
       "8            11          Mark  Brendanawicz  40.0    Male   6/14/1983\n",
       "9            12         Craig  Middlebrooks  37.0    Male   7/27/1986\n",
       "10           13  Jean-Ralphio    Saperstein   NaN     NaN         NaN"
      ]
     },
     "execution_count": 2,
     "metadata": {},
     "output_type": "execute_result"
    }
   ],
   "source": [
    "df = pd.read_csv(r'C:\\Users\\alexf\\OneDrive\\Documents\\Tutorials\\Pandas Folder\\Importing Files Lesson\\parks_and_recreation.csv')\n",
    "df"
   ]
  },
  {
   "cell_type": "code",
   "execution_count": 3,
   "id": "ad182069",
   "metadata": {},
   "outputs": [],
   "source": [
    "df.to_csv(r'C:\\Users\\alexf\\OneDrive\\Documents\\Tutorials\\Pandas Folder\\Importing Files Lesson\\Exports\\parks_export.csv')"
   ]
  },
  {
   "cell_type": "code",
   "execution_count": 5,
   "id": "4021c136",
   "metadata": {},
   "outputs": [],
   "source": [
    "df.to_csv(r'C:\\Users\\alexf\\OneDrive\\Documents\\Tutorials\\Pandas Folder\\Importing Files Lesson\\Exports\\parks_export.csv'\n",
    "         , index = False, columns = ['first_name','last_name'])"
   ]
  },
  {
   "cell_type": "code",
   "execution_count": 7,
   "id": "336033d0",
   "metadata": {},
   "outputs": [],
   "source": [
    "df.to_excel(r'C:\\Users\\alexf\\OneDrive\\Documents\\Tutorials\\Pandas Folder\\Importing Files Lesson\\Exports\\parks_export.xlsx'\n",
    "        , index = False, sheet_name = 'Employees')"
   ]
  },
  {
   "cell_type": "code",
   "execution_count": null,
   "id": "ebecfefd",
   "metadata": {},
   "outputs": [],
   "source": [
    "!pip install openpyxl xlwt"
   ]
  },
  {
   "cell_type": "code",
   "execution_count": 8,
   "id": "1f697ec6",
   "metadata": {},
   "outputs": [],
   "source": [
    "df.to_json(r'C:\\Users\\alexf\\OneDrive\\Documents\\Tutorials\\Pandas Folder\\Importing Files Lesson\\Exports\\parks_export.json')"
   ]
  },
  {
   "cell_type": "code",
   "execution_count": null,
   "id": "07ed1ecd",
   "metadata": {},
   "outputs": [],
   "source": []
  },
  {
   "cell_type": "code",
   "execution_count": null,
   "id": "721bf196",
   "metadata": {},
   "outputs": [],
   "source": []
  },
  {
   "cell_type": "code",
   "execution_count": null,
   "id": "e69ef91d",
   "metadata": {},
   "outputs": [],
   "source": []
  },
  {
   "cell_type": "code",
   "execution_count": null,
   "id": "868e8003",
   "metadata": {},
   "outputs": [],
   "source": []
  },
  {
   "cell_type": "code",
   "execution_count": null,
   "id": "9b5a1d7e",
   "metadata": {},
   "outputs": [],
   "source": []
  },
  {
   "cell_type": "code",
   "execution_count": null,
   "id": "a2cb47ae",
   "metadata": {},
   "outputs": [],
   "source": []
  },
  {
   "cell_type": "code",
   "execution_count": null,
   "id": "174e3627",
   "metadata": {},
   "outputs": [],
   "source": []
  },
  {
   "cell_type": "code",
   "execution_count": null,
   "id": "0bd46306",
   "metadata": {},
   "outputs": [],
   "source": []
  },
  {
   "cell_type": "code",
   "execution_count": null,
   "id": "14c9bb48",
   "metadata": {},
   "outputs": [],
   "source": []
  },
  {
   "cell_type": "code",
   "execution_count": null,
   "id": "4854ba06",
   "metadata": {},
   "outputs": [],
   "source": []
  },
  {
   "cell_type": "code",
   "execution_count": null,
   "id": "e9e22a95",
   "metadata": {},
   "outputs": [],
   "source": []
  },
  {
   "cell_type": "code",
   "execution_count": null,
   "id": "b6d07a89",
   "metadata": {},
   "outputs": [],
   "source": []
  },
  {
   "cell_type": "code",
   "execution_count": null,
   "id": "f6e72b45",
   "metadata": {},
   "outputs": [],
   "source": []
  },
  {
   "cell_type": "code",
   "execution_count": null,
   "id": "e54f185d",
   "metadata": {},
   "outputs": [],
   "source": []
  },
  {
   "cell_type": "code",
   "execution_count": null,
   "id": "0803b039",
   "metadata": {},
   "outputs": [],
   "source": []
  },
  {
   "cell_type": "code",
   "execution_count": null,
   "id": "3e7dfdbd",
   "metadata": {},
   "outputs": [],
   "source": []
  },
  {
   "cell_type": "code",
   "execution_count": null,
   "id": "e20109e1",
   "metadata": {},
   "outputs": [],
   "source": []
  },
  {
   "cell_type": "code",
   "execution_count": null,
   "id": "48760351",
   "metadata": {},
   "outputs": [],
   "source": []
  },
  {
   "cell_type": "code",
   "execution_count": null,
   "id": "067968e1",
   "metadata": {},
   "outputs": [],
   "source": []
  },
  {
   "cell_type": "code",
   "execution_count": null,
   "id": "d23a806e",
   "metadata": {},
   "outputs": [],
   "source": []
  },
  {
   "cell_type": "code",
   "execution_count": null,
   "id": "de9d8d7e",
   "metadata": {},
   "outputs": [],
   "source": []
  },
  {
   "cell_type": "code",
   "execution_count": null,
   "id": "e6152047",
   "metadata": {},
   "outputs": [],
   "source": []
  },
  {
   "cell_type": "code",
   "execution_count": null,
   "id": "ebf60009",
   "metadata": {},
   "outputs": [],
   "source": []
  },
  {
   "cell_type": "code",
   "execution_count": null,
   "id": "1c3d2684",
   "metadata": {},
   "outputs": [],
   "source": []
  },
  {
   "cell_type": "code",
   "execution_count": null,
   "id": "6e149476",
   "metadata": {},
   "outputs": [],
   "source": []
  },
  {
   "cell_type": "code",
   "execution_count": null,
   "id": "dab93e02",
   "metadata": {},
   "outputs": [],
   "source": []
  },
  {
   "cell_type": "code",
   "execution_count": null,
   "id": "d8524be1",
   "metadata": {},
   "outputs": [],
   "source": []
  },
  {
   "cell_type": "code",
   "execution_count": null,
   "id": "0a5182be",
   "metadata": {},
   "outputs": [],
   "source": []
  },
  {
   "cell_type": "code",
   "execution_count": null,
   "id": "71cac829",
   "metadata": {},
   "outputs": [],
   "source": []
  },
  {
   "cell_type": "code",
   "execution_count": null,
   "id": "a26129c2",
   "metadata": {},
   "outputs": [],
   "source": []
  },
  {
   "cell_type": "code",
   "execution_count": null,
   "id": "25c639f2",
   "metadata": {},
   "outputs": [],
   "source": []
  },
  {
   "cell_type": "code",
   "execution_count": null,
   "id": "ce324b01",
   "metadata": {},
   "outputs": [],
   "source": []
  },
  {
   "cell_type": "code",
   "execution_count": null,
   "id": "52f264f3",
   "metadata": {},
   "outputs": [],
   "source": []
  },
  {
   "cell_type": "code",
   "execution_count": null,
   "id": "db997142",
   "metadata": {},
   "outputs": [],
   "source": []
  },
  {
   "cell_type": "code",
   "execution_count": null,
   "id": "5d6b12db",
   "metadata": {},
   "outputs": [],
   "source": []
  },
  {
   "cell_type": "code",
   "execution_count": null,
   "id": "c2b44ed6",
   "metadata": {},
   "outputs": [],
   "source": []
  },
  {
   "cell_type": "code",
   "execution_count": null,
   "id": "826132f5",
   "metadata": {},
   "outputs": [],
   "source": []
  },
  {
   "cell_type": "code",
   "execution_count": null,
   "id": "60e845a1",
   "metadata": {},
   "outputs": [],
   "source": []
  }
 ],
 "metadata": {
  "kernelspec": {
   "display_name": "Python 3 (ipykernel)",
   "language": "python",
   "name": "python3"
  },
  "language_info": {
   "codemirror_mode": {
    "name": "ipython",
    "version": 3
   },
   "file_extension": ".py",
   "mimetype": "text/x-python",
   "name": "python",
   "nbconvert_exporter": "python",
   "pygments_lexer": "ipython3",
   "version": "3.10.9"
  }
 },
 "nbformat": 4,
 "nbformat_minor": 5
}
