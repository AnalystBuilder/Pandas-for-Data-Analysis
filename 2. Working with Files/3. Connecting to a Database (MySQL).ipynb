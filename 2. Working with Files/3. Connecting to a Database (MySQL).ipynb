{
 "cells": [
  {
   "cell_type": "markdown",
   "id": "47dab9ca",
   "metadata": {},
   "source": [
    "# Connecting to a Database (MySQL)"
   ]
  },
  {
   "cell_type": "code",
   "execution_count": null,
   "id": "4b1024fa",
   "metadata": {},
   "outputs": [],
   "source": [
    "!pip install mysql-connector-python"
   ]
  },
  {
   "cell_type": "code",
   "execution_count": 2,
   "id": "333c6b65",
   "metadata": {},
   "outputs": [],
   "source": [
    "import pandas as pd\n",
    "import mysql.connector"
   ]
  },
  {
   "cell_type": "code",
   "execution_count": 5,
   "id": "1e2ef1ce",
   "metadata": {},
   "outputs": [],
   "source": [
    "connect = mysql.connector.connect(\n",
    "host = 'localhost',\n",
    "user = 'root',\n",
    "password = 'PandasTutorial',\n",
    "database = 'parks_and_recreation'\n",
    ")"
   ]
  },
  {
   "cell_type": "code",
   "execution_count": 6,
   "id": "31d5fa52",
   "metadata": {},
   "outputs": [],
   "source": [
    "query = 'SELECT * FROM parks_and_recreation.employee_demographics'"
   ]
  },
  {
   "cell_type": "code",
   "execution_count": 7,
   "id": "74f9c25d",
   "metadata": {},
   "outputs": [
    {
     "name": "stderr",
     "output_type": "stream",
     "text": [
      "C:\\Users\\alexf\\AppData\\Local\\Temp\\ipykernel_174116\\2253160645.py:1: UserWarning: pandas only supports SQLAlchemy connectable (engine/connection) or database string URI or sqlite3 DBAPI2 connection. Other DBAPI2 objects are not tested. Please consider using SQLAlchemy.\n",
      "  pd.read_sql(query,connect)\n"
     ]
    },
    {
     "data": {
      "text/html": [
       "<div>\n",
       "<style scoped>\n",
       "    .dataframe tbody tr th:only-of-type {\n",
       "        vertical-align: middle;\n",
       "    }\n",
       "\n",
       "    .dataframe tbody tr th {\n",
       "        vertical-align: top;\n",
       "    }\n",
       "\n",
       "    .dataframe thead th {\n",
       "        text-align: right;\n",
       "    }\n",
       "</style>\n",
       "<table border=\"1\" class=\"dataframe\">\n",
       "  <thead>\n",
       "    <tr style=\"text-align: right;\">\n",
       "      <th></th>\n",
       "      <th>employee_id</th>\n",
       "      <th>first_name</th>\n",
       "      <th>last_name</th>\n",
       "      <th>age</th>\n",
       "      <th>gender</th>\n",
       "      <th>birth_date</th>\n",
       "    </tr>\n",
       "  </thead>\n",
       "  <tbody>\n",
       "    <tr>\n",
       "      <th>0</th>\n",
       "      <td>1</td>\n",
       "      <td>Leslie</td>\n",
       "      <td>Knope</td>\n",
       "      <td>44.0</td>\n",
       "      <td>Female</td>\n",
       "      <td>1979-09-25</td>\n",
       "    </tr>\n",
       "    <tr>\n",
       "      <th>1</th>\n",
       "      <td>3</td>\n",
       "      <td>Tom</td>\n",
       "      <td>Haverford</td>\n",
       "      <td>36.0</td>\n",
       "      <td>Male</td>\n",
       "      <td>1987-03-04</td>\n",
       "    </tr>\n",
       "    <tr>\n",
       "      <th>2</th>\n",
       "      <td>4</td>\n",
       "      <td>April</td>\n",
       "      <td>Ludgate</td>\n",
       "      <td>29.0</td>\n",
       "      <td>Female</td>\n",
       "      <td>1994-03-27</td>\n",
       "    </tr>\n",
       "    <tr>\n",
       "      <th>3</th>\n",
       "      <td>6</td>\n",
       "      <td>Donna</td>\n",
       "      <td>Meagle</td>\n",
       "      <td>46.0</td>\n",
       "      <td>Female</td>\n",
       "      <td>1977-07-30</td>\n",
       "    </tr>\n",
       "    <tr>\n",
       "      <th>4</th>\n",
       "      <td>7</td>\n",
       "      <td>Ann</td>\n",
       "      <td>Perkins</td>\n",
       "      <td>35.0</td>\n",
       "      <td>Female</td>\n",
       "      <td>1988-12-01</td>\n",
       "    </tr>\n",
       "    <tr>\n",
       "      <th>5</th>\n",
       "      <td>8</td>\n",
       "      <td>Chris</td>\n",
       "      <td>Traeger</td>\n",
       "      <td>43.0</td>\n",
       "      <td>Male</td>\n",
       "      <td>1980-11-11</td>\n",
       "    </tr>\n",
       "    <tr>\n",
       "      <th>6</th>\n",
       "      <td>9</td>\n",
       "      <td>Ben</td>\n",
       "      <td>Wyatt</td>\n",
       "      <td>38.0</td>\n",
       "      <td>Male</td>\n",
       "      <td>1985-07-26</td>\n",
       "    </tr>\n",
       "    <tr>\n",
       "      <th>7</th>\n",
       "      <td>10</td>\n",
       "      <td>Andy</td>\n",
       "      <td>Dwyer</td>\n",
       "      <td>34.0</td>\n",
       "      <td>Male</td>\n",
       "      <td>1989-03-25</td>\n",
       "    </tr>\n",
       "    <tr>\n",
       "      <th>8</th>\n",
       "      <td>11</td>\n",
       "      <td>Mark</td>\n",
       "      <td>Brendanawicz</td>\n",
       "      <td>40.0</td>\n",
       "      <td>Male</td>\n",
       "      <td>1983-06-14</td>\n",
       "    </tr>\n",
       "    <tr>\n",
       "      <th>9</th>\n",
       "      <td>12</td>\n",
       "      <td>Craig</td>\n",
       "      <td>Middlebrooks</td>\n",
       "      <td>37.0</td>\n",
       "      <td>Male</td>\n",
       "      <td>1986-07-27</td>\n",
       "    </tr>\n",
       "    <tr>\n",
       "      <th>10</th>\n",
       "      <td>13</td>\n",
       "      <td>Jean-Ralphio</td>\n",
       "      <td>Saperstein</td>\n",
       "      <td>NaN</td>\n",
       "      <td>None</td>\n",
       "      <td>None</td>\n",
       "    </tr>\n",
       "  </tbody>\n",
       "</table>\n",
       "</div>"
      ],
      "text/plain": [
       "    employee_id    first_name     last_name   age  gender  birth_date\n",
       "0             1        Leslie         Knope  44.0  Female  1979-09-25\n",
       "1             3           Tom     Haverford  36.0    Male  1987-03-04\n",
       "2             4         April       Ludgate  29.0  Female  1994-03-27\n",
       "3             6         Donna        Meagle  46.0  Female  1977-07-30\n",
       "4             7           Ann       Perkins  35.0  Female  1988-12-01\n",
       "5             8         Chris       Traeger  43.0    Male  1980-11-11\n",
       "6             9           Ben         Wyatt  38.0    Male  1985-07-26\n",
       "7            10          Andy         Dwyer  34.0    Male  1989-03-25\n",
       "8            11          Mark  Brendanawicz  40.0    Male  1983-06-14\n",
       "9            12         Craig  Middlebrooks  37.0    Male  1986-07-27\n",
       "10           13  Jean-Ralphio    Saperstein   NaN    None        None"
      ]
     },
     "execution_count": 7,
     "metadata": {},
     "output_type": "execute_result"
    }
   ],
   "source": [
    "pd.read_sql(query,connect)"
   ]
  },
  {
   "cell_type": "code",
   "execution_count": 8,
   "id": "6870e0ed",
   "metadata": {},
   "outputs": [],
   "source": [
    "connect.close()"
   ]
  },
  {
   "cell_type": "code",
   "execution_count": null,
   "id": "e6b3a7ea",
   "metadata": {},
   "outputs": [],
   "source": []
  },
  {
   "cell_type": "code",
   "execution_count": null,
   "id": "467927f9",
   "metadata": {},
   "outputs": [],
   "source": []
  },
  {
   "cell_type": "code",
   "execution_count": null,
   "id": "a6ab26fd",
   "metadata": {},
   "outputs": [],
   "source": []
  },
  {
   "cell_type": "code",
   "execution_count": null,
   "id": "41cf2e65",
   "metadata": {},
   "outputs": [],
   "source": []
  },
  {
   "cell_type": "code",
   "execution_count": null,
   "id": "935dfad2",
   "metadata": {},
   "outputs": [],
   "source": []
  },
  {
   "cell_type": "code",
   "execution_count": null,
   "id": "2fa5d14d",
   "metadata": {},
   "outputs": [],
   "source": []
  },
  {
   "cell_type": "code",
   "execution_count": null,
   "id": "de5c6e63",
   "metadata": {},
   "outputs": [],
   "source": []
  },
  {
   "cell_type": "code",
   "execution_count": null,
   "id": "d46ab3af",
   "metadata": {},
   "outputs": [],
   "source": []
  },
  {
   "cell_type": "code",
   "execution_count": null,
   "id": "cbb18ad7",
   "metadata": {},
   "outputs": [],
   "source": []
  },
  {
   "cell_type": "code",
   "execution_count": null,
   "id": "54dbe7b4",
   "metadata": {},
   "outputs": [],
   "source": []
  },
  {
   "cell_type": "code",
   "execution_count": null,
   "id": "ca761eac",
   "metadata": {},
   "outputs": [],
   "source": []
  },
  {
   "cell_type": "code",
   "execution_count": null,
   "id": "5c776473",
   "metadata": {},
   "outputs": [],
   "source": []
  },
  {
   "cell_type": "code",
   "execution_count": null,
   "id": "e2067408",
   "metadata": {},
   "outputs": [],
   "source": []
  },
  {
   "cell_type": "code",
   "execution_count": null,
   "id": "044afef6",
   "metadata": {},
   "outputs": [],
   "source": []
  },
  {
   "cell_type": "code",
   "execution_count": null,
   "id": "990978c0",
   "metadata": {},
   "outputs": [],
   "source": []
  },
  {
   "cell_type": "code",
   "execution_count": null,
   "id": "fdb5fe2a",
   "metadata": {},
   "outputs": [],
   "source": []
  },
  {
   "cell_type": "code",
   "execution_count": null,
   "id": "609c0f93",
   "metadata": {},
   "outputs": [],
   "source": []
  },
  {
   "cell_type": "code",
   "execution_count": null,
   "id": "f0279e35",
   "metadata": {},
   "outputs": [],
   "source": []
  },
  {
   "cell_type": "code",
   "execution_count": null,
   "id": "f6c7fb17",
   "metadata": {},
   "outputs": [],
   "source": []
  },
  {
   "cell_type": "code",
   "execution_count": null,
   "id": "d035e157",
   "metadata": {},
   "outputs": [],
   "source": []
  },
  {
   "cell_type": "code",
   "execution_count": null,
   "id": "c983db0b",
   "metadata": {},
   "outputs": [],
   "source": []
  }
 ],
 "metadata": {
  "kernelspec": {
   "display_name": "Python 3 (ipykernel)",
   "language": "python",
   "name": "python3"
  },
  "language_info": {
   "codemirror_mode": {
    "name": "ipython",
    "version": 3
   },
   "file_extension": ".py",
   "mimetype": "text/x-python",
   "name": "python",
   "nbconvert_exporter": "python",
   "pygments_lexer": "ipython3",
   "version": "3.10.9"
  }
 },
 "nbformat": 4,
 "nbformat_minor": 5
}
